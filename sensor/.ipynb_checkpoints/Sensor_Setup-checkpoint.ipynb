{
 "cells": [
  {
   "cell_type": "code",
   "execution_count": 1,
   "metadata": {},
   "outputs": [
    {
     "ename": "SyntaxError",
     "evalue": "'return' outside function (<ipython-input-1-0cae5118612b>, line 128)",
     "output_type": "error",
     "traceback": [
      "\u001b[0;36m  File \u001b[0;32m\"<ipython-input-1-0cae5118612b>\"\u001b[0;36m, line \u001b[0;32m128\u001b[0m\n\u001b[0;31m    return rx, ry\u001b[0m\n\u001b[0m    ^\u001b[0m\n\u001b[0;31mSyntaxError\u001b[0m\u001b[0;31m:\u001b[0m 'return' outside function\n"
     ]
    }
   ],
   "source": [
    "import numpy as np\n",
    "import matplotlib.pyplot as plt\n",
    "import math\n",
    "import random\n",
    "import time\n",
    "\n",
    "class CSensor(object):\n",
    "    def __init__(self,name,x = 0, y = 0):\n",
    "        self.name = name\n",
    "        self.x_base = x\n",
    "        self.y_base = y\n",
    "        self.heading =math.pi - math.atan2(self.x_base,self.y_base)        \n",
    "    def set_price(self,price = 1):\n",
    "        self.price = price\n",
    "    def __str__(self,print_all = False):\n",
    "        if print_all :\n",
    "            return \" \".join(str(items) for items in (self.__dict__.items()))\n",
    "        else:\n",
    "            return self.name\n",
    "        \n",
    "class CMate(CSensor):\n",
    "    def __init__(self,name,x = 0, y = 0,width = 1,length = 1):\n",
    "        super(CMate,self).__init__(name,x,y)\n",
    "        self.width = width\n",
    "        self.length = length\n",
    "        self._calc_contour()\n",
    "    def _calc_contour(self):\n",
    "        self.mate_x = []\n",
    "        self.mate_y = []\n",
    "        \n",
    "        self.mate_x.append(self.length/2)\n",
    "        self.mate_y.append(self.width/2)\n",
    "        \n",
    "        self.mate_x.append(self.length/2)\n",
    "        self.mate_y.append(-self.width/2)\n",
    "        \n",
    "        self.mate_x.append(-self.length/2)\n",
    "        self.mate_y.append(-self.width/2)\n",
    "        \n",
    "        self.mate_x.append(-self.length/2)\n",
    "        self.mate_y.append(self.width/2)\n",
    "        \n",
    "        self.mate_x.append(self.length/2)\n",
    "        self.mate_y.append(self.width/2)\n",
    "        \n",
    "        self.__mate_x,self.__mate_y = self._interpolate(self.mate_x,self.mate_y)\n",
    "    \n",
    "    def _interpolate(self,x,y):\n",
    "        rx,ry = [],[]\n",
    "        dtheta = 0.05\n",
    "        for i in range(len(x) - 1):\n",
    "            rx.extend([(1.0 - θ) * x[i] + θ * x[i + 1] # interpolate the edges\n",
    "                       for θ in np.arange(0.0, 1.0, dtheta)])\n",
    "            ry.extend([(1.0 - θ) * y[i] + θ * y[i + 1]\n",
    "                       for θ in np.arange(0.0, 1.0, dtheta)])            \n",
    "        return rx, ry\n",
    "    \n",
    "    def calc_global_contour(self):\n",
    "        gx = [(ix * np.cos(self.heading) + iy * np.sin(self.heading)) +\n",
    "              self.x_base for (ix, iy) in zip(self.__mate_x, self.__mate_y)]\n",
    "        gy = [(ix * np.sin(self.heading) - iy * np.cos(self.heading)) +\n",
    "              self.y_base for (ix, iy) in zip(self.__mate_x, self.__mate_y)]\n",
    "        return gx, gy\n",
    "    \n",
    "    def plot(self,fig):\n",
    "        fig.plot(self.x_base,self.y_base,\".b\")\n",
    "        gx,gy = self.calc_global_contour()\n",
    "        plt.plot(gx,gy,\"--b\")\n",
    "        plt.text(self.x_base,self.y_base,self.name)\n",
    "        \n",
    "class CFence(CMate): # Fence only influences the movement direction of human\n",
    "        def plot(self,fig):\n",
    "            fig.plot(self.x_base,self.y_base,\".y\")\n",
    "            gx,gy = self.calc_global_contour()\n",
    "            plt.plot(gx,gy,\"--y\")\n",
    "            plt.text(self.x_base,self.y_base,self.name)\n",
    "\n",
    "class CLidar(CSensor):\n",
    "    # Adding the Lidar frame update frequence as wa parameter \n",
    "    def __init__(self,name,x = 0, y = 0,lidar_range = 5.5,angle_res = 1,min_angle = -math.pi/2, max_angle = math.pi/2):\n",
    "        super(CLidar,self).__init__(name,x,y)\n",
    "        self.Lrange = lidar_range\n",
    "        self.angle_res = angle_res\n",
    "        self.min_angle = min_angle\n",
    "        self.max_angle = max_angle\n",
    "        self.range_noise = 0.01\n",
    "        self.heading = math.pi - math.atan2(self.x_base,self.y_base)  \n",
    "     # TODO:Check whether a point is inside of a rectangle：\n",
    "    # A Chinese Blog :https://blog.csdn.net/qq_34342154/article/details/78257827\n",
    "    def object_detection(self,human,angle_res):\n",
    "    # Note: Lidar only detects the human\n",
    "    # First assume all the points could be detected\n",
    "        x,y,angle,r = [],[],[],[]\n",
    "        gx,gy = human.standing_area()\n",
    "        for vx,vy in zip(gx,gy):\n",
    "            vx = vx - self.x_base\n",
    "            vy = vy - self.y_base\n",
    "            vangle = math.atan2(vy,vx)\n",
    "            vr = np.hypot(vx,vy) * random.uniform(1.0 -self.range_noise, 1.0 + self.range_noise)\n",
    "            x.append(vx)\n",
    "            y.append(vy)\n",
    "            angle.append(vangle)\n",
    "            r.append(vr)\n",
    "    # Then use filter to store the vaild ones\n",
    "        rx,ry = self.ray_casting_filter(x,y,angle,r,angle_res)\n",
    "        \n",
    "        rx = [ x + self.x_base for x in rx]\n",
    "        ry = [ y + self.y_base for y in ry]\n",
    "        \n",
    "        return rx,ry\n",
    "    \n",
    "    def ray_casting_filter(self,xl,yl,thetal,rangel,rangel_reso):\n",
    "        rx,ry = [],[]\n",
    "        rangedb = [float(\"inf\") for _ in range(\n",
    "            int(np.floor((np.pi * 2.0) / angle_reso)) + 1)]\n",
    "\n",
    "        for i in range(len(thetal)):\n",
    "            angleid = int(round(thetal[i] / angle_reso))\n",
    "\n",
    "            if rangedb[angleid] > rangel[i]:\n",
    "                rangedb[angleid] = rangel[i]\n",
    "\n",
    "        for i in range(len(rangedb)):\n",
    "            t = i * angle_reso\n",
    "            if rangedb[i] != float(\"inf\"):\n",
    "                rx.append(rangedb[i] * np.cos(t))\n",
    "                ry.append(rangedb[i] * np.sin(t))\n",
    "        return rx, ry\n",
    "        \n",
    "    def plot(self,fig):\n",
    "        fig.plot(self.x_base,self.y_base,\"^g\")\n",
    "        plt.text(self.x_base,self.y_base,self.name)\n",
    "        \n",
    "class CHuman(object):\n",
    "    # represent the human with a circle, which stands for the arm operation, with radius r=1\n",
    "    def __init__(self,name,start_vel = 1, start_pos_x = -4,start_pos_y = -3,heading = 0):\n",
    "        self.x = start_pos_x\n",
    "        self.y = start_pos_y\n",
    "        self.vel = start_vel\n",
    "        self.name = name\n",
    "        self.__arm = 1\n",
    "        if heading == 0:\n",
    "            self.heading = math.pi - math.atan2(self.x,self.y)\n",
    "        else:\n",
    "            self.heading = heading\n",
    "    def standing_area(self):\n",
    "        #TODO: use cart2pol to segment the human better\n",
    "        gx = np.arange(self.x-self.__arm,self.x+self.__arm + 0.1,0.5) \n",
    "        # the grid step is set to be 0.5 or 0.1\n",
    "        #print(gx)\n",
    "        gy = [math.sqrt(self.__arm**2 - (ix - self.x)**2) +self.y for ix in gx]\n",
    "        #print(gy)\n",
    "        gy_neg = [-math.sqrt(self.__arm**2 - (ix - self.x)**2) +self.y for ix in gx]\n",
    "        gx = np.append(gx,gx).reshape(-1,1)\n",
    "        gy = np.append(gy,gy_neg).reshape(-1,1)\n",
    "        return gx,gy\n",
    "        \n",
    "    def plot(self,fig):\n",
    "        #fig.plot(self.x,self.y,\"sg\")\n",
    "        plt.text(self.x,self.y,self.name)\n",
    "        gx,gy = self.standing_area()\n",
    "        fig.plot(gx,gy,\"sr\")\n",
    "        human_circle = plt.Circle((self.x,self.y),self.__arm,color = 'y', fill = True)\n",
    "        fig.add_artist(human_circle)\n",
    "\n",
    "class CRobot(object):\n",
    "    def __init__(self,name,start_vel = 1, start_pos = 0):\n",
    "        self.name = name\n",
    "        self.x_base = 0\n",
    "        self.y_base = 0\n",
    "        self.vel = start_vel\n",
    "        self.pos = start_pos - math.pi/2\n",
    "        self.range = 2.5\n",
    "        self.__baseRadius = 0.5\n",
    "        self.eef_x = self.range * math.sin(self.pos)\n",
    "        self.eef_y = self.range * math.cos(self.pos)\n",
    "        \n",
    "    def update(self):\n",
    "        self.pos -= self.vel\n",
    "        self.eef_x = self.range * math.sin(self.pos)\n",
    "        self.eef_y = self.range * math.cos(self.pos)\n",
    "    def plot(self,fig):\n",
    "        #fig.plot(self.x_base,self.y_base,\"sr\")\n",
    "        fig.plot(self.eef_x,self.eef_y,\"sr\")\n",
    "        base = plt.Circle((self.x_base,self.y_base),self.__baseRadius,color = 'r', fill = True)\n",
    "        fig.add_artist(base)\n",
    "        fig.plot([self.x_base,self.eef_x],[self.y_base,self.eef_y],\"-r\")\n",
    "        plt.text(self.x_base-1,self.y_base+0.1,self.name)"
   ]
  },
  {
   "cell_type": "code",
   "execution_count": null,
   "metadata": {},
   "outputs": [],
   "source": [
    "mate = CMate('Mate1',x = 5, y = -3,width=4,length=6)\n",
    "fence = CFence('Fence1', x = -2, y=-6, width = 0.5,length = 4)\n",
    "lidar = CLidar('Lidar1',x=2,y=3)\n",
    "robot = CRobot('Robot1',start_vel = 0.1,start_pos =0)\n",
    "human = CHuman('Worker1')"
   ]
  },
  {
   "cell_type": "code",
   "execution_count": 2,
   "metadata": {
    "scrolled": true
   },
   "outputs": [
    {
     "ename": "NameError",
     "evalue": "name 'mate' is not defined",
     "output_type": "error",
     "traceback": [
      "\u001b[0;31m---------------------------------------------------------------------------\u001b[0m",
      "\u001b[0;31mNameError\u001b[0m                                 Traceback (most recent call last)",
      "\u001b[0;32m<ipython-input-2-4967402afe92>\u001b[0m in \u001b[0;36m<module>\u001b[0;34m\u001b[0m\n\u001b[1;32m      5\u001b[0m \u001b[0maxes\u001b[0m\u001b[0;34m.\u001b[0m\u001b[0mset_ylim\u001b[0m\u001b[0;34m(\u001b[0m\u001b[0;34m[\u001b[0m\u001b[0;34m-\u001b[0m\u001b[0;36m10\u001b[0m\u001b[0;34m,\u001b[0m\u001b[0;36m5\u001b[0m\u001b[0;34m]\u001b[0m\u001b[0;34m)\u001b[0m\u001b[0;34m\u001b[0m\u001b[0m\n\u001b[1;32m      6\u001b[0m \u001b[0;31m#axes.axis(\"equal\")\u001b[0m\u001b[0;34m\u001b[0m\u001b[0;34m\u001b[0m\u001b[0m\n\u001b[0;32m----> 7\u001b[0;31m \u001b[0mmate\u001b[0m\u001b[0;34m.\u001b[0m\u001b[0mplot\u001b[0m\u001b[0;34m(\u001b[0m\u001b[0maxes\u001b[0m\u001b[0;34m)\u001b[0m\u001b[0;34m\u001b[0m\u001b[0m\n\u001b[0m\u001b[1;32m      8\u001b[0m \u001b[0mfence\u001b[0m\u001b[0;34m.\u001b[0m\u001b[0mplot\u001b[0m\u001b[0;34m(\u001b[0m\u001b[0maxes\u001b[0m\u001b[0;34m)\u001b[0m\u001b[0;34m\u001b[0m\u001b[0m\n\u001b[1;32m      9\u001b[0m \u001b[0mlidar\u001b[0m\u001b[0;34m.\u001b[0m\u001b[0mplot\u001b[0m\u001b[0;34m(\u001b[0m\u001b[0maxes\u001b[0m\u001b[0;34m)\u001b[0m\u001b[0;34m\u001b[0m\u001b[0m\n",
      "\u001b[0;31mNameError\u001b[0m: name 'mate' is not defined"
     ]
    },
    {
     "data": {
      "image/png": "[encoded data removed]",
      "text/plain": [
       "<Figure size 432x288 with 1 Axes>"
      ]
     },
     "metadata": {
      "needs_background": "light"
     },
     "output_type": "display_data"
    }
   ],
   "source": [
    "fig,axes = plt.subplots(1,1)\n",
    "axes.cla()\n",
    "axes = plt.gca()\n",
    "axes.set_xlim([-10,10])\n",
    "axes.set_ylim([-10,5])\n",
    "#axes.axis(\"equal\")\n",
    "mate.plot(axes)\n",
    "fence.plot(axes)\n",
    "lidar.plot(axes)\n",
    "human.plot(axes)\n",
    "#print(robot.eef_x)\n",
    "#robot.update()\n",
    "robot.plot(axes)\n",
    "time.sleep(0.01)\n",
    "    \n",
    "    "
   ]
  },
  {
   "cell_type": "code",
   "execution_count": 143,
   "metadata": {},
   "outputs": [
    {
     "name": "stdout",
     "output_type": "stream",
     "text": [
      "[-5.  -4.5 -4.  -3.5 -3. ]\n",
      "[-3.0, -2.1339745962155616, -2.0, -2.1339745962155616, -3.0]\n"
     ]
    }
   ],
   "source": [
    "gx,gy = human.standing_area()"
   ]
  },
  {
   "cell_type": "code",
   "execution_count": 144,
   "metadata": {},
   "outputs": [
    {
     "data": {
      "text/plain": [
       "array([[1.],\n",
       "       [1.],\n",
       "       [1.],\n",
       "       [1.],\n",
       "       [1.],\n",
       "       [1.],\n",
       "       [1.],\n",
       "       [1.],\n",
       "       [1.],\n",
       "       [1.]])"
      ]
     },
     "execution_count": 144,
     "metadata": {},
     "output_type": "execute_result"
    }
   ],
   "source": [
    "(gx-human.x)**2 +(gy - human.y) **2"
   ]
  },
  {
   "cell_type": "code",
   "execution_count": 111,
   "metadata": {},
   "outputs": [
    {
     "data": {
      "text/plain": [
       "array([0. , 0.5, 1. , 1.5, 2. , 2.5, 3. , 3.5, 4. , 4.5, 5. ])"
      ]
     },
     "execution_count": 111,
     "metadata": {},
     "output_type": "execute_result"
    }
   ],
   "source": [
    "np.arange(0,5.5,0.5)"
   ]
  },
  {
   "cell_type": "code",
   "execution_count": null,
   "metadata": {},
   "outputs": [],
   "source": []
  }
 ],
 "metadata": {
  "kernelspec": {
   "display_name": "Python 3",
   "language": "python",
   "name": "python3"
  },
  "language_info": {
   "codemirror_mode": {
    "name": "ipython",
    "version": 3
   },
   "file_extension": ".py",
   "mimetype": "text/x-python",
   "name": "python",
   "nbconvert_exporter": "python",
   "pygments_lexer": "ipython3",
   "version": "3.5.2"
  }
 },
 "nbformat": 4,
 "nbformat_minor": 2
}
