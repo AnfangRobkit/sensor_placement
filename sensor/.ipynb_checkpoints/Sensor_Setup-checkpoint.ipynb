{
 "cells": [
  {
   "cell_type": "code",
   "execution_count": 97,
   "metadata": {},
   "outputs": [],
   "source": [
    "import numpy as np\n",
    "import matplotlib.pyplot as plt\n",
    "import math\n",
    "import random\n",
    "import time\n",
    "\n",
    "class CSensor(object):\n",
    "    def __init__(self,name,x = 0, y = 0):\n",
    "        self.name = name\n",
    "        self.x_base = x\n",
    "        self.y_base = y\n",
    "        self.heading =math.pi - math.atan2(self.x_base,self.y_base)        \n",
    "    def set_price(self,price = 1):\n",
    "        self.price = price\n",
    "    def __str__(self,print_all = False):\n",
    "        if print_all :\n",
    "            return \" \".join(str(items) for items in (self.__dict__.items()))\n",
    "        else:\n",
    "            return self.name\n",
    "        \n",
    "class CMate(CSensor):\n",
    "    def __init__(self,name,x = 0, y = 0,width = 1,length = 1):\n",
    "        super(CMate,self).__init__(name,x,y)\n",
    "        self.width = width\n",
    "        self.length = length\n",
    "        self._calc_contour()\n",
    "    def _calc_contour(self):\n",
    "        self.mate_x = []\n",
    "        self.mate_y = []\n",
    "        \n",
    "        self.mate_x.append(self.length/2)\n",
    "        self.mate_y.append(self.width/2)\n",
    "        \n",
    "        self.mate_x.append(self.length/2)\n",
    "        self.mate_y.append(-self.width/2)\n",
    "        \n",
    "        self.mate_x.append(-self.length/2)\n",
    "        self.mate_y.append(-self.width/2)\n",
    "        \n",
    "        self.mate_x.append(-self.length/2)\n",
    "        self.mate_y.append(self.width/2)\n",
    "        \n",
    "        self.mate_x.append(self.length/2)\n",
    "        self.mate_y.append(self.width/2)\n",
    "        \n",
    "        self.__mate_x,self.__mate_y = self._interpolate(self.mate_x,self.mate_y)\n",
    "    \n",
    "    def _interpolate(self,x,y):\n",
    "        rx,ry = [],[]\n",
    "        dtheta = 0.05\n",
    "        for i in range(len(x) - 1):\n",
    "            rx.extend([(1.0 - θ) * x[i] + θ * x[i + 1] # interpolate the edges\n",
    "                       for θ in np.arange(0.0, 1.0, dtheta)])\n",
    "            ry.extend([(1.0 - θ) * y[i] + θ * y[i + 1]\n",
    "                       for θ in np.arange(0.0, 1.0, dtheta)])            \n",
    "        return rx, ry\n",
    "    \n",
    "    def calc_global_contour(self):\n",
    "        gx = [(ix * np.cos(self.heading) + iy * np.sin(self.heading)) +\n",
    "              self.x_base for (ix, iy) in zip(self.__mate_x, self.__mate_y)]\n",
    "        gy = [(ix * np.sin(self.heading) - iy * np.cos(self.heading)) +\n",
    "              self.y_base for (ix, iy) in zip(self.__mate_x, self.__mate_y)]\n",
    "        return gx, gy\n",
    "    \n",
    "    def plot(self,fig):\n",
    "        fig.plot(self.x_base,self.y_base,\".b\")\n",
    "        gx,gy = self.calc_global_contour()\n",
    "        plt.plot(gx,gy,\"--b\")\n",
    "        plt.text(self.x_base,self.y_base,self.name)\n",
    "        \n",
    "class CFence(CMate):\n",
    "        def plot(self,fig):\n",
    "            fig.plot(self.x_base,self.y_base,\".y\")\n",
    "            gx,gy = self.calc_global_contour()\n",
    "            plt.plot(gx,gy,\"--y\")\n",
    "            plt.text(self.x_base,self.y_base,self.name)\n",
    "\n",
    "class CLidar(CSensor):\n",
    "    def __init__(self,name,x = 0, y = 0,lidar_range = 5.5,angle_res = 1,min_angle = -math.pi/2, max_angle = math.pi/2):\n",
    "        super(CLidar,self).__init__(name,x,y)\n",
    "        self.Lrange = lidar_range\n",
    "        self.angle_res = angle_res\n",
    "        self.min_angle = min_angle\n",
    "        self.max_angle = max_angle\n",
    "        self.heading = math.pi - math.atan2(self.x_base,self.y_base)  \n",
    "    # TODO:Check whether a point is inside of a rectangle：\n",
    "    # A Chinese Blog :https://blog.csdn.net/qq_34342154/article/details/78257827\n",
    "    def object_detection(self,object_list,angle_res):\n",
    "    # Question: Lidar only detects the human?\n",
    "        x,y,angle,r = [],[],[],[]\n",
    "        \n",
    "    def plot(self,fig):\n",
    "        fig.plot(self.x_base,self.y_base,\"^g\")\n",
    "        plt.text(self.x_base,self.y_base,self.name)\n",
    "        \n",
    "class CHuman(object):\n",
    "    def __init__(self,name,start_vel = 1, start_pos_x = 2,start_pos_y = 0,heading = 0):\n",
    "        self.x = start_pos_x\n",
    "        self.y = start_pos_y\n",
    "        self.vel = start_vel\n",
    "        self.name = name\n",
    "        if heading == 0:\n",
    "            self.heading = math.pi - math.atan2(self.x,self.y)\n",
    "        else:\n",
    "            self.heading = heading\n",
    "    def plot(self,fig):\n",
    "        fig.plot(self.x,self.y,\"sg\")\n",
    "        plt.text(self.x,self.y,self.name)\n",
    "\n",
    "class CRobot(object):\n",
    "    def __init__(self,name,start_vel = 1, start_pos = 0):\n",
    "        self.name = name\n",
    "        self.x_base = 0\n",
    "        self.y_base = 0\n",
    "        self.vel = start_vel\n",
    "        self.pos = start_pos - math.pi/2\n",
    "        self.range = 2.5\n",
    "        self.__baseRadius = 0.5\n",
    "        self.eef_x = self.range * math.sin(self.pos)\n",
    "        self.eef_y = self.range * math.cos(self.pos)\n",
    "        \n",
    "    def update(self):\n",
    "        self.pos -= self.vel\n",
    "        self.eef_x = self.range * math.sin(self.pos)\n",
    "        self.eef_y = self.range * math.cos(self.pos)\n",
    "    def plot(self,fig):\n",
    "        #fig.plot(self.x_base,self.y_base,\"sr\")\n",
    "        fig.plot(self.eef_x,self.eef_y,\"sr\")\n",
    "        fig.plot(self.eef_x/2,self.eef_y/2,\"sr\")\n",
    "        base = plt.Circle((self.x_base,self.y_base),self.__baseRadius,color = 'r', fill = True)\n",
    "        fig.add_artist(base)\n",
    "        fig.plot([self.x_base,self.eef_x],[self.y_base,self.eef_y],\"-r\")\n",
    "        plt.text(self.x_base-1,self.y_base+0.1,self.name)"
   ]
  },
  {
   "cell_type": "code",
   "execution_count": 98,
   "metadata": {},
   "outputs": [],
   "source": [
    "mate = CMate('Mate1',x = 5, y = -3,width=4,length=6)\n",
    "fence = CFence('Fence1', x = -2, y=-6, width = 0.5,length = 4)\n",
    "lidar = CLidar('Lidar1',x=2,y=3)\n",
    "robot = CRobot('Robot1',start_vel = 0.1,start_pos =0)\n",
    "huamn = CHuman('Worker1')"
   ]
  },
  {
   "cell_type": "code",
   "execution_count": 99,
   "metadata": {
    "scrolled": true
   },
   "outputs": [
    {
     "data": {
      "image/png": "[encoded data removed]",
      "text/plain": [
       "<Figure size 432x288 with 1 Axes>"
      ]
     },
     "metadata": {
      "needs_background": "light"
     },
     "output_type": "display_data"
    }
   ],
   "source": [
    "fig,axes = plt.subplots(1,1)\n",
    "axes.cla()\n",
    "axes = plt.gca()\n",
    "axes.set_xlim([-10,10])\n",
    "axes.set_ylim([-10,5])\n",
    "#axes.axis(\"equal\")\n",
    "mate.plot(axes)\n",
    "fence.plot(axes)\n",
    "lidar.plot(axes)\n",
    "huamn.plot(axes)\n",
    "#print(robot.eef_x)\n",
    "#robot.update()\n",
    "robot.plot(axes)\n",
    "time.sleep(0.01)\n",
    "    \n",
    "    "
   ]
  },
  {
   "cell_type": "code",
   "execution_count": 90,
   "metadata": {},
   "outputs": [
    {
     "data": {
      "text/plain": [
       "-2.5"
      ]
     },
     "execution_count": 90,
     "metadata": {},
     "output_type": "execute_result"
    }
   ],
   "source": [
    "robot.eef_x"
   ]
  },
  {
   "cell_type": "code",
   "execution_count": 44,
   "metadata": {},
   "outputs": [
    {
     "name": "stdout",
     "output_type": "stream",
     "text": [
      "-5.5 3.3677786976552215e-16\n",
      "-5.472522909029141 -0.549083791557555\n",
      "-5.390366178126829 -1.0926813193728373\n",
      "-5.254350690190833 -1.6253611366373688\n",
      "-5.065835467015868 -2.141800882697579\n"
     ]
    }
   ],
   "source": [
    "for i in range(0,5):\n",
    "    print(robot.eef_x,robot.eef_y)\n",
    "    robot.update()"
   ]
  },
  {
   "cell_type": "code",
   "execution_count": null,
   "metadata": {},
   "outputs": [],
   "source": []
  }
 ],
 "metadata": {
  "kernelspec": {
   "display_name": "Python 3",
   "language": "python",
   "name": "python3"
  },
  "language_info": {
   "codemirror_mode": {
    "name": "ipython",
    "version": 3
   },
   "file_extension": ".py",
   "mimetype": "text/x-python",
   "name": "python",
   "nbconvert_exporter": "python",
   "pygments_lexer": "ipython3",
   "version": "3.5.2"
  }
 },
 "nbformat": 4,
 "nbformat_minor": 2
}
