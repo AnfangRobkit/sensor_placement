{
 "cells": [
  {
   "cell_type": "code",
   "execution_count": 300,
   "metadata": {},
   "outputs": [],
   "source": [
    "import numpy as np\n",
    "import matplotlib.pyplot as plt\n",
    "import math\n",
    "import random\n",
    "\n",
    "class CSensor(object):\n",
    "    def __init__(self,name,x = 0, y = 0):\n",
    "        self.name = name\n",
    "        self.x_base = x\n",
    "        self.y_base = y\n",
    "        self.heading =math.pi - math.atan2(self.x_base,self.y_base)        \n",
    "    def set_price(self,price = 1):\n",
    "        self.price = price\n",
    "    def __str__(self,print_all = False):\n",
    "        if print_all :\n",
    "            return \" \".join(str(items) for items in (self.__dict__.items()))\n",
    "        else:\n",
    "            return self.name\n",
    "        \n",
    "class CMate(CSensor):\n",
    "    def __init__(self,name,x = 0, y = 0,width = 1,length = 1):\n",
    "        super(CMate,self).__init__(name,x,y)\n",
    "        self.width = width\n",
    "        self.length = length\n",
    "        self._calc_contour()\n",
    "    def _calc_contour(self):\n",
    "        self.mate_x = []\n",
    "        self.mate_y = []\n",
    "        \n",
    "        self.mate_x.append(self.length/2)\n",
    "        self.mate_y.append(self.width/2)\n",
    "        \n",
    "        self.mate_x.append(self.length/2)\n",
    "        self.mate_y.append(-self.width/2)\n",
    "        \n",
    "        self.mate_x.append(-self.length/2)\n",
    "        self.mate_y.append(-self.width/2)\n",
    "        \n",
    "        self.mate_x.append(-self.length/2)\n",
    "        self.mate_y.append(self.width/2)\n",
    "        \n",
    "        self.mate_x.append(self.length/2)\n",
    "        self.mate_y.append(self.width/2)\n",
    "        \n",
    "        self.__mate_x,self.__mate_y = self._interpolate(self.mate_x,self.mate_y)\n",
    "    \n",
    "    def _interpolate(self,x,y):\n",
    "        rx,ry = [],[]\n",
    "        dtheta = 0.05\n",
    "        for i in range(len(x) - 1):\n",
    "            rx.extend([(1.0 - θ) * x[i] + θ * x[i + 1] # interpolate the edges\n",
    "                       for θ in np.arange(0.0, 1.0, dtheta)])\n",
    "            ry.extend([(1.0 - θ) * y[i] + θ * y[i + 1]\n",
    "                       for θ in np.arange(0.0, 1.0, dtheta)])            \n",
    "        return rx, ry\n",
    "    \n",
    "    def calc_global_contour(self):\n",
    "        gx = [(ix * np.cos(self.heading) + iy * np.sin(self.heading)) +\n",
    "              self.x_base for (ix, iy) in zip(self.__mate_x, self.__mate_y)]\n",
    "        gy = [(ix * np.sin(self.heading) - iy * np.cos(self.heading)) +\n",
    "              self.y_base for (ix, iy) in zip(self.__mate_x, self.__mate_y)]\n",
    "        return gx, gy\n",
    "    \n",
    "    def plot(self,fig):\n",
    "        fig.plot(self.x_base,self.y_base,\".b\")\n",
    "        gx,gy = self.calc_global_contour()\n",
    "        plt.plot(gx,gy,\"--b\")\n",
    "        \n",
    "class CFence(CMate):\n",
    "        def plot(self,fig):\n",
    "            fig.plot(self.x_base,self.y_base,\".y\")\n",
    "            gx,gy = self.calc_global_contour()\n",
    "            plt.plot(gx,gy,\"--y\")\n",
    "\n",
    "class CLidar(CSensor):\n",
    "    def __init__(self,name,x = 0, y = 0,lidar_range = 5.5,angle_res = 1,min_angle = -math.pi/2, max_angle = math.pi/2):\n",
    "        super(CLidar,self).__init__(name,x,y)\n",
    "        self.Lrange = lidar_range\n",
    "        self.angle_res = angle_res\n",
    "        self.min_angle = min_angle\n",
    "        self.max_angle = max_angle\n",
    "    # TODO:判断点是否在矩形内部：https://blog.csdn.net/qq_34342154/article/details/78257827\n",
    "    def plot(self,fig):\n",
    "        fig.plot(self.x_base,self.y_base,\".g\")"
   ]
  },
  {
   "cell_type": "code",
   "execution_count": 301,
   "metadata": {},
   "outputs": [],
   "source": [
    "mate = CMate('Mate1',x = -1, y = 5,width=4,length=6)\n",
    "fence = CFence('Fence1', x = -2, y=-6, width = 0.5,length = 4)\n",
    "lidar = CLidar('Lidar1',x=2,y=3)"
   ]
  },
  {
   "cell_type": "code",
   "execution_count": 302,
   "metadata": {},
   "outputs": [
    {
     "data": {
      "text/plain": [
       "[<matplotlib.lines.Line2D at 0x23d255f8550>]"
      ]
     },
     "execution_count": 302,
     "metadata": {},
     "output_type": "execute_result"
    },
    {
     "data": {
      "image/png": "[encoded data removed]",
      "text/plain": [
       "<Figure size 432x288 with 1 Axes>"
      ]
     },
     "metadata": {
      "needs_background": "light"
     },
     "output_type": "display_data"
    }
   ],
   "source": [
    "fig,axes = plt.subplots(1,1)\n",
    "axes.cla()\n",
    "axes.axis(\"equal\")\n",
    "mate.plot(axes)\n",
    "fence.plot(axes)\n",
    "lidar.plot(axes)\n",
    "axes.plot(0,0,\"sr\")"
   ]
  },
  {
   "cell_type": "code",
   "execution_count": null,
   "metadata": {},
   "outputs": [],
   "source": []
  },
  {
   "cell_type": "code",
   "execution_count": null,
   "metadata": {},
   "outputs": [],
   "source": []
  },
  {
   "cell_type": "code",
   "execution_count": null,
   "metadata": {},
   "outputs": [],
   "source": []
  }
 ],
 "metadata": {
  "kernelspec": {
   "display_name": "Python 3",
   "language": "python",
   "name": "python3"
  },
  "language_info": {
   "codemirror_mode": {
    "name": "ipython",
    "version": 3
   },
   "file_extension": ".py",
   "mimetype": "text/x-python",
   "name": "python",
   "nbconvert_exporter": "python",
   "pygments_lexer": "ipython3",
   "version": "3.7.3"
  }
 },
 "nbformat": 4,
 "nbformat_minor": 2
}
