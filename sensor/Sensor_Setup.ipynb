{
 "cells": [
  {
   "cell_type": "code",
   "execution_count": 23,
   "metadata": {},
   "outputs": [],
   "source": [
    "import numpy as np\n",
    "import matplotlib.pyplot as plt\n",
    "import math\n",
    "import random\n",
    "import time\n",
    "\n",
    "class CSensor(object):\n",
    "    def __init__(self,name,x = 0, y = 0):\n",
    "        self.name = name\n",
    "        self.x_base = x\n",
    "        self.y_base = y\n",
    "        self.heading =math.pi - math.atan2(self.x_base,self.y_base)        \n",
    "    def set_price(self,price = 1):\n",
    "        self.price = price\n",
    "    def __str__(self,print_all = False):\n",
    "        if print_all :\n",
    "            return \" \".join(str(items) for items in (self.__dict__.items()))\n",
    "        else:\n",
    "            return self.name"
   ]
  },
  {
   "cell_type": "markdown",
   "metadata": {},
   "source": [
    "## Define the Mat class"
   ]
  },
  {
   "cell_type": "code",
   "execution_count": 24,
   "metadata": {},
   "outputs": [],
   "source": [
    "class CMate(CSensor):\n",
    "    def __init__(self,name,x = 0, y = 0,width = 1,length = 1):\n",
    "        super(CMate,self).__init__(name,x,y)\n",
    "        self.width = width\n",
    "        self.length = length\n",
    "        self._calc_contour()\n",
    "    def _calc_contour(self):\n",
    "        self.mate_x = []\n",
    "        self.mate_y = []\n",
    "        \n",
    "        self.mate_x.append(self.length/2)\n",
    "        self.mate_y.append(self.width/2)\n",
    "        \n",
    "        self.mate_x.append(self.length/2)\n",
    "        self.mate_y.append(-self.width/2)\n",
    "        \n",
    "        self.mate_x.append(-self.length/2)\n",
    "        self.mate_y.append(-self.width/2)\n",
    "        \n",
    "        self.mate_x.append(-self.length/2)\n",
    "        self.mate_y.append(self.width/2)\n",
    "        \n",
    "        self.mate_x.append(self.length/2)\n",
    "        self.mate_y.append(self.width/2)\n",
    "        \n",
    "        self.__mate_x,self.__mate_y = self._interpolate(self.mate_x,self.mate_y)\n",
    "    \n",
    "    def _interpolate(self,x,y):\n",
    "        rx,ry = [],[]\n",
    "        dtheta = 0.05\n",
    "        for i in range(len(x) - 1):\n",
    "            rx.extend([(1.0 - θ) * x[i] + θ * x[i + 1] # interpolate the edges\n",
    "                       for θ in np.arange(0.0, 1.0, dtheta)])\n",
    "            ry.extend([(1.0 - θ) * y[i] + θ * y[i + 1]\n",
    "                       for θ in np.arange(0.0, 1.0, dtheta)])            \n",
    "        return rx, ry\n",
    "    \n",
    "    def calc_global_contour(self):\n",
    "        gx = [(ix * np.cos(self.heading) + iy * np.sin(self.heading)) +\n",
    "              self.x_base for (ix, iy) in zip(self.__mate_x, self.__mate_y)]\n",
    "        gy = [(ix * np.sin(self.heading) - iy * np.cos(self.heading)) +\n",
    "              self.y_base for (ix, iy) in zip(self.__mate_x, self.__mate_y)]\n",
    "        return gx, gy\n",
    "    \n",
    "    def plot(self,fig):\n",
    "        fig.plot(self.x_base,self.y_base,\".b\")\n",
    "        gx,gy = self.calc_global_contour()\n",
    "        plt.plot(gx,gy,\"--b\")\n",
    "        plt.text(self.x_base,self.y_base,self.name)"
   ]
  },
  {
   "cell_type": "markdown",
   "metadata": {},
   "source": [
    "## Define the Fence class"
   ]
  },
  {
   "cell_type": "code",
   "execution_count": 25,
   "metadata": {},
   "outputs": [],
   "source": [
    "class CFence(CMate): # Fence only influences the movement direction of human\n",
    "        def plot(self,fig):\n",
    "            fig.plot(self.x_base,self.y_base,\".y\")\n",
    "            gx,gy = self.calc_global_contour()\n",
    "            plt.plot(gx,gy,\"--y\")\n",
    "            plt.text(self.x_base,self.y_base,self.name)\n",
    "\n",
    "\n"
   ]
  },
  {
   "cell_type": "markdown",
   "metadata": {},
   "source": [
    "## Define the human class"
   ]
  },
  {
   "cell_type": "code",
   "execution_count": 26,
   "metadata": {},
   "outputs": [],
   "source": [
    "class CHuman(object):\n",
    "    # represent the human with a circle, which stands for the arm operation, with radius r=1\n",
    "    def __init__(self,name,start_vel = 0.1, start_pos_x = -4,start_pos_y = -3,heading = 0):\n",
    "        self.x = start_pos_x\n",
    "        self.y = start_pos_y\n",
    "        self.vel = start_vel\n",
    "        self.name = name\n",
    "        self.arm = 1\n",
    "        if heading == 0:\n",
    "            self.heading = math.pi - math.atan2(self.x,self.y)\n",
    "        else:\n",
    "            self.heading = heading\n",
    "    def standing_area(self):\n",
    "\n",
    "        segment = 10\n",
    "        seg_x = [self.arm * math.cos(theta) for theta in np.arange(0,np.pi*2,2*np.pi/segment)]\n",
    "        seg_y = [self.arm * math.sin(theta) for theta in np.arange(0,np.pi*2,2*np.pi/segment)]\n",
    "        \n",
    "        gx = np.asarray(seg_x) * math.cos(self.heading)  + np.asarray(seg_y) * math.sin(self.heading) + self.x\n",
    "        gy = -np.asarray(seg_x) * math.sin(self.heading) + np.asarray(seg_y) * math.cos(self.heading) + self.y\n",
    "        return gx,gy\n",
    "    \n",
    "    # Use dynamic model to update the position of the human\n",
    "    def update(self,dt, omega = 0, a = 0, max_vel = 2):\n",
    "        self.x += self.vel * np.cos(self.heading) * dt\n",
    "        self.y += self.vel * np.sin(self.heading) * dt\n",
    "        self.heading *= omega * dt\n",
    "        self.vel += a * dt\n",
    "        # at first step, always assume to be the constant vel and linear dynamics\n",
    "        if self.vel > max_vel:\n",
    "            self.vel = max_vel        \n",
    "         \n",
    "    def plot(self,fig):\n",
    "        #fig.plot(self.x,self.y,\"sg\")\n",
    "        plt.text(self.x,self.y,self.name)\n",
    "        gx,gy = self.standing_area()\n",
    "        fig.plot(gx,gy,\"sr\")\n",
    "        human_circle = plt.Circle((self.x,self.y),self.arm,color = 'lime', fill = True)\n",
    "        fig.add_artist(human_circle)"
   ]
  },
  {
   "cell_type": "markdown",
   "metadata": {},
   "source": [
    "## Define the Robot class"
   ]
  },
  {
   "cell_type": "code",
   "execution_count": 27,
   "metadata": {},
   "outputs": [],
   "source": [
    "class CRobot(object):\n",
    "    def __init__(self,name,start_vel = 1, start_pos = 0):\n",
    "        self.name = name\n",
    "        self.x_base = 0\n",
    "        self.y_base = 0\n",
    "        self.vel = start_vel\n",
    "        self.pos = start_pos - math.pi/2\n",
    "        self.range = 2.5\n",
    "        self.__baseRadius = 0.5\n",
    "        self.eef_x = self.range * math.sin(self.pos)\n",
    "        self.eef_y = self.range * math.cos(self.pos)\n",
    "        \n",
    "    def update(self):\n",
    "        self.pos -= self.vel\n",
    "        self.eef_x = self.range * math.sin(self.pos)\n",
    "        self.eef_y = self.range * math.cos(self.pos)\n",
    "    def plot(self,fig):\n",
    "        #fig.plot(self.x_base,self.y_base,\"sr\")\n",
    "        fig.plot(self.eef_x,self.eef_y,\"sr\")\n",
    "        base = plt.Circle((self.x_base,self.y_base),self.__baseRadius,color = 'r', fill = True)\n",
    "        fig.add_artist(base)\n",
    "        fig.plot([self.x_base,self.eef_x],[self.y_base,self.eef_y],\"-r\")\n",
    "        plt.text(self.x_base-1,self.y_base+0.1,self.name)"
   ]
  },
  {
   "cell_type": "markdown",
   "metadata": {},
   "source": [
    "## Define the Lidar Class"
   ]
  },
  {
   "cell_type": "code",
   "execution_count": 28,
   "metadata": {},
   "outputs": [],
   "source": [
    "class CLidar(CSensor):\n",
    "    # Adding the Lidar frame update frequence as wa parameter \n",
    "    def __init__(self,name,x = 0, y = 0,lidar_range =10,angle_res = 0.01,min_angle = -math.pi/2, max_angle = math.pi/2):\n",
    "        super(CLidar,self).__init__(name,x,y)\n",
    "        self.Lrange = lidar_range\n",
    "        self.angle_res = angle_res\n",
    "        self.min_angle = min_angle\n",
    "        self.max_angle = max_angle\n",
    "        self.range_noise = 0.01\n",
    "        self.heading = math.pi - math.atan2(self.x_base,self.y_base)  \n",
    "     #TODO:Check whether a point is inside of a rectangle：\n",
    "    # A Chinese Blog :https://blog.csdn.net/qq_34342154/article/details/78257827\n",
    "    def object_detection(self,human):\n",
    "    # Note: In the first version, Lidar only detects the human\n",
    "        x,y,angle,r = [],[],[],[]\n",
    "        gx,gy = human.standing_area()\n",
    "        for vx,vy in zip(gx,gy):\n",
    "            vx = vx - self.x_base\n",
    "            vy = vy - self.y_base\n",
    "            vangle = math.atan2(vy,vx)\n",
    "            vr = np.hypot(vx,vy)\n",
    "            # Should we use Gaussian to simulate the noise?\n",
    "            # vr = np.hypot(vx,vy) + * random.uniform(1.0 -self.range_noise, 1.0 + self.range_noise)\n",
    "            x.append(vx)\n",
    "            y.append(vy)\n",
    "            angle.append(vangle)\n",
    "            r.append(vr)\n",
    "        distance = np.hypot(np.hypot(self.x_base - human.x, self.y_base - human.y),human.arm)\n",
    "        rx,ry = self.ray_casting_filter(x,y,angle,r,distance)\n",
    "        rx = [ x + self.x_base for x in rx]\n",
    "        ry = [ y + self.y_base for y in ry]\n",
    "        \n",
    "        return rx,ry\n",
    "    \n",
    "    def ray_casting_filter(self,xl,yl,thetal,rangel,distance):\n",
    "        rx,ry = [],[]\n",
    "        rangedb = [float(\"inf\") for _ in range(\n",
    "            int(np.floor((np.pi * 2.0) / self.angle_res)) + 1)]\n",
    "        # init the lidar results with \"inf\"\n",
    "\n",
    "        for i in range(len(thetal)):\n",
    "            angleid = int(round(thetal[i] / self.angle_res))\n",
    "\n",
    "            if (rangedb[angleid] > rangel[i] and rangel[i] < self.Lrange and rangel[i]<distance):\n",
    "                rangedb[angleid] = rangel[i]\n",
    "\n",
    "        for i in range(len(rangedb)):\n",
    "            t = i * self.angle_res\n",
    "            if rangedb[i] != float(\"inf\"):\n",
    "                rx.append(rangedb[i] * np.cos(t))\n",
    "                ry.append(rangedb[i] * np.sin(t))\n",
    "        return rx, ry\n",
    "    \n",
    "        \n",
    "    def plot(self,fig):\n",
    "        fig.plot(self.x_base,self.y_base,\"^g\")\n",
    "        plt.text(self.x_base,self.y_base,self.name)\n",
    "\n",
    "class CLidarPlotter:\n",
    "    def __init__(self, x, y,  colorcode = 'r'):\n",
    "        self.x = x\n",
    "        self.y = y\n",
    "        self.color = colorcode\n",
    "        \n",
    "    def plot_scan(self, plt, ox, oy):\n",
    "        x = [ox[i] for i in range(len(ox))]\n",
    "        y = [oy[i] for i in range(len(ox))]\n",
    "\n",
    "        for (ix, iy) in zip(x, y):\n",
    "            plt.plot([self.x, ix], [self.y, iy], self.color)"
   ]
  },
  {
   "cell_type": "code",
   "execution_count": 49,
   "metadata": {},
   "outputs": [],
   "source": [
    "def draw_warn_zone(fig,robot,wz = 3):\n",
    "    \n",
    "    dz = plt.Circle((robot.x_base,robot.y_base),robot.range,color = 'red', fill = False)\n",
    "    fig.add_artist(dz)\n",
    "    wz = plt.Circle((robot.x_base,robot.y_base),wz,color = 'yellow', fill = False)\n",
    "    fig.add_artist(wz)"
   ]
  },
  {
   "cell_type": "code",
   "execution_count": 50,
   "metadata": {},
   "outputs": [],
   "source": [
    "mate = CMate('Mate1',x = 5, y = -3,width=4,length=6)\n",
    "fence = CFence('Fence1', x = -2, y=-6, width = 0.5,length = 4)\n",
    "lidar = CLidar('Lidar1',x=2,y=3)\n",
    "robot = CRobot('Robot1',start_vel = 0.1,start_pos =0)\n",
    "human = CHuman('Worker1')\n",
    "lidar_plt = CLidarPlotter(x=lidar.x_base,y=lidar.y_base,colorcode='g')"
   ]
  },
  {
   "cell_type": "code",
   "execution_count": 51,
   "metadata": {
    "scrolled": true
   },
   "outputs": [
    {
     "data": {
      "image/png": "[encoded data removed]",
      "text/plain": [
       "<Figure size 432x288 with 1 Axes>"
      ]
     },
     "metadata": {
      "needs_background": "light"
     },
     "output_type": "display_data"
    }
   ],
   "source": [
    "\n",
    "axes.cla()\n",
    "axes = plt.gca()\n",
    "axes.set_xlim([-10,10])\n",
    "axes.set_ylim([-10,5])\n",
    "#axes.axis(\"equal\")\n",
    "mate.plot(axes)\n",
    "fence.plot(axes)\n",
    "lidar.plot(axes)\n",
    "human.plot(axes)\n",
    "#print(robot.eef_x)\n",
    "#robot.update()\n",
    "robot.plot(axes)\n",
    "time.sleep(0.01)\n",
    "rx,ry = lidar.object_detection(human)\n",
    "lidar_plt.plot_scan(axes, rx, ry)\n",
    "draw_warn_zone(axes,robot)"
   ]
  },
  {
   "cell_type": "code",
   "execution_count": 53,
   "metadata": {},
   "outputs": [],
   "source": [
    "current_time = 0\n",
    "simulation_time = 30\n",
    "dt = 0.2 # time step"
   ]
  },
  {
   "cell_type": "code",
   "execution_count": 54,
   "metadata": {},
   "outputs": [
    {
     "data": {
      "image/png": "[encoded data removed]",
      "text/plain": [
       "<Figure size 432x288 with 1 Axes>"
      ]
     },
     "metadata": {
      "needs_background": "light"
     },
     "output_type": "display_data"
    }
   ],
   "source": [
    "fig,axes = plt.subplots(1,1)\n",
    "while current_time < simulation_time:\n",
    "    human.update(dt,omega = 0.1)\n",
    "    robot.update()\n",
    "    rx,ry = lidar.object_detection(human)    \n",
    "    axes.cla()\n",
    "    axes.axis(\"equal\")\n",
    "    mate.plot(axes)\n",
    "    fence.plot(axes)\n",
    "    lidar.plot(axes)\n",
    "    lidar_plt.plot_scan(axes, rx, ry)\n",
    "    human.plot(axes)\n",
    "    robot.plot(axes)\n",
    "    draw_warn_zone(axes,robot)\n",
    "    current_time += dt\n",
    "    fig.canvas.draw()"
   ]
  },
  {
   "cell_type": "markdown",
   "metadata": {},
   "source": [
    "## Question\n",
    "- about the heading problem, always heading the robot? Up to now, yes.\n",
    "- Since we also simulate the human dynamic, how define it?"
   ]
  },
  {
   "cell_type": "markdown",
   "metadata": {},
   "source": [
    "## TODO\n",
    "- adding framerate and detection angle to the Laser\n",
    "- adding the human dynamic properties"
   ]
  },
  {
   "cell_type": "code",
   "execution_count": null,
   "metadata": {},
   "outputs": [],
   "source": [
    "print(rx)"
   ]
  },
  {
   "cell_type": "code",
   "execution_count": null,
   "metadata": {},
   "outputs": [],
   "source": []
  },
  {
   "cell_type": "code",
   "execution_count": null,
   "metadata": {},
   "outputs": [],
   "source": []
  },
  {
   "cell_type": "code",
   "execution_count": null,
   "metadata": {},
   "outputs": [],
   "source": []
  },
  {
   "cell_type": "code",
   "execution_count": null,
   "metadata": {},
   "outputs": [],
   "source": []
  },
  {
   "cell_type": "code",
   "execution_count": null,
   "metadata": {},
   "outputs": [],
   "source": []
  },
  {
   "cell_type": "code",
   "execution_count": null,
   "metadata": {},
   "outputs": [],
   "source": []
  },
  {
   "cell_type": "code",
   "execution_count": null,
   "metadata": {},
   "outputs": [],
   "source": []
  }
 ],
 "metadata": {
  "kernelspec": {
   "display_name": "Python 3",
   "language": "python",
   "name": "python3"
  },
  "language_info": {
   "codemirror_mode": {
    "name": "ipython",
    "version": 3
   },
   "file_extension": ".py",
   "mimetype": "text/x-python",
   "name": "python",
   "nbconvert_exporter": "python",
   "pygments_lexer": "ipython3",
   "version": "3.5.2"
  }
 },
 "nbformat": 4,
 "nbformat_minor": 2
}
